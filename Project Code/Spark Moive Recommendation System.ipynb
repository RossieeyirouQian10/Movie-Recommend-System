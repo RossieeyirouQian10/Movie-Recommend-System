{
 "cells": [
  {
   "cell_type": "markdown",
   "metadata": {},
   "source": [
    "### Spark Moive Recommendation\n",
    "\n",
    "In this notebook, we will use an Alternating Least Squares (ALS) algorithm with Spark APIs to predict the ratings for the movies in [MovieLens small dataset](https://grouplens.org/datasets/movielens/latest/)"
   ]
  },
  {
   "cell_type": "code",
   "execution_count": 2,
   "metadata": {},
   "outputs": [],
   "source": [
    "import numpy as np\n",
    "import pandas as pd\n",
    "import seaborn as sns\n",
    "import matplotlib.pyplot as plt\n",
    "import math\n",
    "import databricks.koalas as ks\n",
    "\n",
    "from pyspark.sql import functions as F\n",
    "from pyspark.sql.types import IntegerType, FloatType\n",
    "from mpl_toolkits.mplot3d import Axes3D\n",
    "from pyspark.sql.functions import udf\n",
    "\n",
    "import warnings\n",
    "warnings.filterwarnings(\"ignore\")"
   ]
  },
  {
   "cell_type": "code",
   "execution_count": 1,
   "metadata": {},
   "outputs": [],
   "source": [
    "import os\n",
    "os.environ[\"PYSPARK_PYTHON\"] = \"python3\"\n",
    "os.environ[\"PYARROW_IGNORE_TIMEZONE\"] = \"1\""
   ]
  },
  {
   "cell_type": "markdown",
   "metadata": {},
   "source": [
    "## Part 1: Data ETL and Data Exploration"
   ]
  },
  {
   "cell_type": "code",
   "execution_count": 3,
   "metadata": {},
   "outputs": [],
   "source": [
    "from pyspark.sql import SparkSession\n",
    "\n",
    "# A SparkSession can be used create DataFrame, register DataFrame as tables,\n",
    "# execute SQL over tables, cache tables, and read parquet files.\n",
    "# Sets a name for the application, which will be shown in the Spark web UI.\n",
    "spark = SparkSession \\\n",
    "    .builder \\\n",
    "    .appName(\"Moive Recommend System Analysis\") \\\n",
    "    .config(\"spark.some.config.option\", \"some-value\") \\\n",
    "    .getOrCreate()"
   ]
  },
  {
   "cell_type": "code",
   "execution_count": 4,
   "metadata": {},
   "outputs": [],
   "source": [
    "movies_df = spark.read.load('ml-latest-small/movies.csv', format='csv', header = True)\n",
    "ratings_df = spark.read.load('ml-latest-small/ratings.csv', format='csv', header = True)\n",
    "links_df = spark.read.load('ml-latest-small/links.csv', format='csv', header = True)\n",
    "tags_df = spark.read.load('ml-latest-small/tags.csv', format='csv', header = True)"
   ]
  },
  {
   "cell_type": "code",
   "execution_count": 5,
   "metadata": {},
   "outputs": [
    {
     "name": "stdout",
     "output_type": "stream",
     "text": [
      "+-------+--------------------+--------------------+\n",
      "|movieId|               title|              genres|\n",
      "+-------+--------------------+--------------------+\n",
      "|      1|    Toy Story (1995)|Adventure|Animati...|\n",
      "|      2|      Jumanji (1995)|Adventure|Childre...|\n",
      "|      3|Grumpier Old Men ...|      Comedy|Romance|\n",
      "|      4|Waiting to Exhale...|Comedy|Drama|Romance|\n",
      "|      5|Father of the Bri...|              Comedy|\n",
      "|      6|         Heat (1995)|Action|Crime|Thri...|\n",
      "|      7|      Sabrina (1995)|      Comedy|Romance|\n",
      "|      8| Tom and Huck (1995)|  Adventure|Children|\n",
      "|      9| Sudden Death (1995)|              Action|\n",
      "|     10|    GoldenEye (1995)|Action|Adventure|...|\n",
      "|     11|American Presiden...|Comedy|Drama|Romance|\n",
      "|     12|Dracula: Dead and...|       Comedy|Horror|\n",
      "|     13|        Balto (1995)|Adventure|Animati...|\n",
      "|     14|        Nixon (1995)|               Drama|\n",
      "|     15|Cutthroat Island ...|Action|Adventure|...|\n",
      "|     16|       Casino (1995)|         Crime|Drama|\n",
      "|     17|Sense and Sensibi...|       Drama|Romance|\n",
      "|     18|   Four Rooms (1995)|              Comedy|\n",
      "|     19|Ace Ventura: When...|              Comedy|\n",
      "|     20|  Money Train (1995)|Action|Comedy|Cri...|\n",
      "+-------+--------------------+--------------------+\n",
      "only showing top 20 rows\n",
      "\n"
     ]
    }
   ],
   "source": [
    "movies_df.show()"
   ]
  },
  {
   "cell_type": "code",
   "execution_count": 6,
   "metadata": {},
   "outputs": [
    {
     "data": {
      "text/plain": [
       "9742"
      ]
     },
     "execution_count": 6,
     "metadata": {},
     "output_type": "execute_result"
    }
   ],
   "source": [
    "movies_df.count()"
   ]
  },
  {
   "cell_type": "code",
   "execution_count": 7,
   "metadata": {},
   "outputs": [
    {
     "name": "stdout",
     "output_type": "stream",
     "text": [
      "+------+-------+------+---------+\n",
      "|userId|movieId|rating|timestamp|\n",
      "+------+-------+------+---------+\n",
      "|     1|      1|   4.0|964982703|\n",
      "|     1|      3|   4.0|964981247|\n",
      "|     1|      6|   4.0|964982224|\n",
      "|     1|     47|   5.0|964983815|\n",
      "|     1|     50|   5.0|964982931|\n",
      "|     1|     70|   3.0|964982400|\n",
      "|     1|    101|   5.0|964980868|\n",
      "|     1|    110|   4.0|964982176|\n",
      "|     1|    151|   5.0|964984041|\n",
      "|     1|    157|   5.0|964984100|\n",
      "|     1|    163|   5.0|964983650|\n",
      "|     1|    216|   5.0|964981208|\n",
      "|     1|    223|   3.0|964980985|\n",
      "|     1|    231|   5.0|964981179|\n",
      "|     1|    235|   4.0|964980908|\n",
      "|     1|    260|   5.0|964981680|\n",
      "|     1|    296|   3.0|964982967|\n",
      "|     1|    316|   3.0|964982310|\n",
      "|     1|    333|   5.0|964981179|\n",
      "|     1|    349|   4.0|964982563|\n",
      "+------+-------+------+---------+\n",
      "only showing top 20 rows\n",
      "\n"
     ]
    }
   ],
   "source": [
    "ratings_df.show()"
   ]
  },
  {
   "cell_type": "code",
   "execution_count": 8,
   "metadata": {},
   "outputs": [
    {
     "data": {
      "text/plain": [
       "100836"
      ]
     },
     "execution_count": 8,
     "metadata": {},
     "output_type": "execute_result"
    }
   ],
   "source": [
    "ratings_df.count()"
   ]
  },
  {
   "cell_type": "code",
   "execution_count": 9,
   "metadata": {},
   "outputs": [
    {
     "name": "stdout",
     "output_type": "stream",
     "text": [
      "+-------+-------+------+\n",
      "|movieId| imdbId|tmdbId|\n",
      "+-------+-------+------+\n",
      "|      1|0114709|   862|\n",
      "|      2|0113497|  8844|\n",
      "|      3|0113228| 15602|\n",
      "|      4|0114885| 31357|\n",
      "|      5|0113041| 11862|\n",
      "+-------+-------+------+\n",
      "only showing top 5 rows\n",
      "\n"
     ]
    }
   ],
   "source": [
    "links_df.show(5)"
   ]
  },
  {
   "cell_type": "code",
   "execution_count": 10,
   "metadata": {},
   "outputs": [
    {
     "data": {
      "text/plain": [
       "9742"
      ]
     },
     "execution_count": 10,
     "metadata": {},
     "output_type": "execute_result"
    }
   ],
   "source": [
    "links_df.count()"
   ]
  },
  {
   "cell_type": "code",
   "execution_count": 11,
   "metadata": {},
   "outputs": [
    {
     "name": "stdout",
     "output_type": "stream",
     "text": [
      "+------+-------+---------------+----------+\n",
      "|userId|movieId|            tag| timestamp|\n",
      "+------+-------+---------------+----------+\n",
      "|     2|  60756|          funny|1445714994|\n",
      "|     2|  60756|Highly quotable|1445714996|\n",
      "|     2|  60756|   will ferrell|1445714992|\n",
      "|     2|  89774|   Boxing story|1445715207|\n",
      "|     2|  89774|            MMA|1445715200|\n",
      "+------+-------+---------------+----------+\n",
      "only showing top 5 rows\n",
      "\n"
     ]
    }
   ],
   "source": [
    "tags_df.show(5)"
   ]
  },
  {
   "cell_type": "code",
   "execution_count": 12,
   "metadata": {},
   "outputs": [
    {
     "data": {
      "text/plain": [
       "3683"
      ]
     },
     "execution_count": 12,
     "metadata": {},
     "output_type": "execute_result"
    }
   ],
   "source": [
    "tags_df.count()"
   ]
  },
  {
   "cell_type": "code",
   "execution_count": 13,
   "metadata": {},
   "outputs": [
    {
     "name": "stdout",
     "output_type": "stream",
     "text": [
      "If there is missing data in each table?\n",
      "movie_df: True\n",
      "ratings_df: True\n",
      "links_df: False\n",
      "tags_df: True\n"
     ]
    }
   ],
   "source": [
    "print(\"If there is missing data in each table?\")\n",
    "print('movie_df: {}'.format(movies_df.count() == movies_df.na.drop().count()))\n",
    "print('ratings_df: {}'.format(ratings_df.count() == ratings_df.na.drop().count()))\n",
    "print('links_df: {}'.format(links_df.count() == links_df.na.drop().count()))\n",
    "print('tags_df: {}'.format(tags_df.count() == tags_df.na.drop().count()))"
   ]
  },
  {
   "cell_type": "code",
   "execution_count": 14,
   "metadata": {},
   "outputs": [
    {
     "data": {
      "text/plain": [
       "[Row(count=27), Row(count=22), Row(count=360), Row(count=34), Row(count=152)]"
      ]
     },
     "execution_count": 14,
     "metadata": {},
     "output_type": "execute_result"
    }
   ],
   "source": [
    "tmp1 = ratings_df.groupBy(\"userID\").count().select('count').rdd\n",
    "tmp1.take(5)"
   ]
  },
  {
   "cell_type": "code",
   "execution_count": 15,
   "metadata": {},
   "outputs": [
    {
     "name": "stdout",
     "output_type": "stream",
     "text": [
      "For the users that rated movies and the movies that were rated:\n",
      "Minimum number of ratings per user is 20\n",
      "Minimum number of ratings per movie is 1\n"
     ]
    }
   ],
   "source": [
    "# Convert df into an RDD\n",
    "# RDD之后就变成list了，[0]就是第一个元素\n",
    "tmp1 = ratings_df.groupBy(\"userID\").count().select('count').rdd.min()[0]\n",
    "tmp2 = ratings_df.groupBy(\"movieId\").count().select('count').rdd.min()[0]\n",
    "print('For the users that rated movies and the movies that were rated:')\n",
    "print('Minimum number of ratings per user is {}'.format(tmp1))\n",
    "print('Minimum number of ratings per movie is {}'.format(tmp2))"
   ]
  },
  {
   "cell_type": "code",
   "execution_count": 16,
   "metadata": {},
   "outputs": [
    {
     "name": "stdout",
     "output_type": "stream",
     "text": [
      "3446 out of 9724 movies are rated by only one user\n"
     ]
    }
   ],
   "source": [
    "tmp1 = ratings_df.groupBy(\"movieId\").count().filter('count = 1').count()\n",
    "tmp2 = ratings_df.select('movieId').distinct().count()\n",
    "print('{} out of {} movies are rated by only one user'.format(tmp1, tmp2))"
   ]
  },
  {
   "cell_type": "code",
   "execution_count": 17,
   "metadata": {},
   "outputs": [
    {
     "data": {
      "text/plain": [
       "<AxesSubplot:title={'center':'Distribution of number of ratings (per user)'}, xlabel='number of ratings', ylabel='percentage'>"
      ]
     },
     "metadata": {},
     "output_type": "display_data"
    },
    {
     "data": {
      "image/png": "[encoded data removed]",
      "text/plain": [
       "<Figure size 864x576 with 1 Axes>"
      ]
     },
     "metadata": {
      "needs_background": "light"
     },
     "output_type": "display_data"
    }
   ],
   "source": [
    "# get statistics for users\n",
    "users_result = ratings_df.groupBy(\"userId\").count().orderBy('count', ascending=False)\n",
    "\n",
    "fig = plt.figure(figsize=(12,8))\n",
    "tmp = sns.distplot(users_result.toPandas()['count'], hist=True)\n",
    "plt.ylabel('percentage')\n",
    "plt.xlabel('number of ratings')\n",
    "tmp.set_title('Distribution of number of ratings (per user)')\n",
    "display(tmp)"
   ]
  },
  {
   "cell_type": "code",
   "execution_count": 18,
   "metadata": {},
   "outputs": [
    {
     "data": {
      "text/plain": [
       "<AxesSubplot:title={'center':'Distribution of number of ratings (per movie)'}, xlabel='number of ratings', ylabel='percentage'>"
      ]
     },
     "metadata": {},
     "output_type": "display_data"
    },
    {
     "data": {
      "image/png": "[encoded data removed]",
      "text/plain": [
       "<Figure size 864x576 with 1 Axes>"
      ]
     },
     "metadata": {
      "needs_background": "light"
     },
     "output_type": "display_data"
    }
   ],
   "source": [
    "# get statistics for movies\n",
    "movies_result=ratings_df.groupBy(\"movieId\").count().orderBy('count', ascending=False)\n",
    "\n",
    "fig = plt.figure(figsize=(12,8))\n",
    "tmp = sns.distplot(movies_result.toPandas()['count'], color = 'burlywood', hist=True)\n",
    "plt.ylabel('percentage')\n",
    "plt.xlabel('number of ratings')\n",
    "tmp.set_title('Distribution of number of ratings (per movie)')\n",
    "display(tmp)"
   ]
  },
  {
   "cell_type": "code",
   "execution_count": 19,
   "metadata": {},
   "outputs": [
    {
     "data": {
      "text/plain": [
       "<AxesSubplot:title={'center':'Number of movies of each category'}, xlabel='genres', ylabel='count'>"
      ]
     },
     "metadata": {},
     "output_type": "display_data"
    },
    {
     "data": {
      "image/png": "[encoded data removed]",
      "text/plain": [
       "<Figure size 4320x720 with 1 Axes>"
      ]
     },
     "metadata": {
      "needs_background": "light"
     },
     "output_type": "display_data"
    }
   ],
   "source": [
    "# analysis movies by content\n",
    "movies_genres_temp = movies_df.where('genres is not null')\\\n",
    ".select('title', F.explode(F.split('genres', '\\|')).alias('genres'))\n",
    "\n",
    "movies_genres = movies_genres_temp.groupBy('genres').count()\\\n",
    ".orderBy('count', ascending=False)\\\n",
    ".toPandas()\n",
    "\n",
    "fig = plt.figure(figsize=(60,10))\n",
    "tmp = sns.barplot(x='genres', y='count', data=movies_genres)\n",
    "tmp.set_title('Number of movies of each category')\n",
    "display(tmp)"
   ]
  },
  {
   "cell_type": "code",
   "execution_count": 20,
   "metadata": {},
   "outputs": [
    {
     "data": {
      "text/plain": [
       "<AxesSubplot:title={'center':'Number of movies of each rating'}, xlabel='rating', ylabel='count'>"
      ]
     },
     "metadata": {},
     "output_type": "display_data"
    },
    {
     "data": {
      "image/png": "[encoded data removed]",
      "text/plain": [
       "<Figure size 864x576 with 1 Axes>"
      ]
     },
     "metadata": {
      "needs_background": "light"
     },
     "output_type": "display_data"
    }
   ],
   "source": [
    "# get statistics for ratings\n",
    "ratings_result = ratings_df.groupBy('rating').count()\\\n",
    ".withColumn('rating', ratings_df.rating.cast('float'))\\\n",
    ".toPandas()\n",
    "\n",
    "fig = plt.figure(figsize=(12,8))\n",
    "tmp=sns.barplot(x='rating', y='count', data=ratings_result)\n",
    "tmp.set_title('Number of movies of each rating')\n",
    "display(tmp)"
   ]
  },
  {
   "cell_type": "markdown",
   "metadata": {},
   "source": [
    "## Part 2: Spark SQL and OLAP"
   ]
  },
  {
   "cell_type": "code",
   "execution_count": 21,
   "metadata": {},
   "outputs": [],
   "source": [
    "# Registers this DataFrame as a temporary table using the given name\n",
    "movies_df.registerTempTable(\"movies\")\n",
    "ratings_df.registerTempTable(\"ratings\")\n",
    "links_df.registerTempTable(\"links\")\n",
    "tags_df.registerTempTable(\"tags\")"
   ]
  },
  {
   "cell_type": "markdown",
   "metadata": {},
   "source": [
    "### Q1: The number of Users"
   ]
  },
  {
   "cell_type": "code",
   "execution_count": 22,
   "metadata": {},
   "outputs": [
    {
     "name": "stdout",
     "output_type": "stream",
     "text": [
      "+---------------+\n",
      "|Number_of_users|\n",
      "+---------------+\n",
      "|            610|\n",
      "+---------------+\n",
      "\n"
     ]
    }
   ],
   "source": [
    "spark.sql('SELECT COUNT(distinct userID) \\\n",
    "           AS Number_of_users \\\n",
    "           FROM ratings').show()"
   ]
  },
  {
   "cell_type": "markdown",
   "metadata": {},
   "source": [
    "### Q2: The number of Movies"
   ]
  },
  {
   "cell_type": "code",
   "execution_count": 23,
   "metadata": {},
   "outputs": [
    {
     "name": "stdout",
     "output_type": "stream",
     "text": [
      "+---------------+\n",
      "|Numer_of_movies|\n",
      "+---------------+\n",
      "|           9742|\n",
      "+---------------+\n",
      "\n"
     ]
    }
   ],
   "source": [
    "spark.sql('SELECT COUNT(distinct movieId) \\\n",
    "           AS Numer_of_movies \\\n",
    "           FROM movies').show()"
   ]
  },
  {
   "cell_type": "markdown",
   "metadata": {},
   "source": [
    "### Q3:  How many movies are rated by users? List movies not rated before"
   ]
  },
  {
   "cell_type": "code",
   "execution_count": 24,
   "metadata": {},
   "outputs": [
    {
     "name": "stdout",
     "output_type": "stream",
     "text": [
      "+-------+--------------------+--------------------+\n",
      "|movieId|               title|              genres|\n",
      "+-------+--------------------+--------------------+\n",
      "|      1|    Toy Story (1995)|Adventure|Animati...|\n",
      "|      2|      Jumanji (1995)|Adventure|Childre...|\n",
      "|      3|Grumpier Old Men ...|      Comedy|Romance|\n",
      "|      4|Waiting to Exhale...|Comedy|Drama|Romance|\n",
      "|      5|Father of the Bri...|              Comedy|\n",
      "+-------+--------------------+--------------------+\n",
      "only showing top 5 rows\n",
      "\n"
     ]
    }
   ],
   "source": [
    "movies_df.show(5)"
   ]
  },
  {
   "cell_type": "code",
   "execution_count": 25,
   "metadata": {},
   "outputs": [
    {
     "name": "stdout",
     "output_type": "stream",
     "text": [
      "+------+-------+------+---------+\n",
      "|userId|movieId|rating|timestamp|\n",
      "+------+-------+------+---------+\n",
      "|     1|      1|   4.0|964982703|\n",
      "|     1|      3|   4.0|964981247|\n",
      "|     1|      6|   4.0|964982224|\n",
      "|     1|     47|   5.0|964983815|\n",
      "|     1|     50|   5.0|964982931|\n",
      "+------+-------+------+---------+\n",
      "only showing top 5 rows\n",
      "\n"
     ]
    }
   ],
   "source": [
    "ratings_df.show(5)"
   ]
  },
  {
   "cell_type": "code",
   "execution_count": 26,
   "metadata": {},
   "outputs": [
    {
     "name": "stdout",
     "output_type": "stream",
     "text": [
      "+-----------------------------+\n",
      "|Numer_of_movies_rated_by_user|\n",
      "+-----------------------------+\n",
      "|                         9724|\n",
      "+-----------------------------+\n",
      "\n"
     ]
    }
   ],
   "source": [
    "spark.sql('SELECT COUNT(distinct movieId) \\\n",
    "           AS Numer_of_movies_rated_by_user \\\n",
    "           FROM ratings').show()"
   ]
  },
  {
   "cell_type": "code",
   "execution_count": 27,
   "metadata": {},
   "outputs": [
    {
     "name": "stdout",
     "output_type": "stream",
     "text": [
      "+--------------------+--------------------+\n",
      "|               title|              genres|\n",
      "+--------------------+--------------------+\n",
      "|Innocents, The (1...|Drama|Horror|Thri...|\n",
      "|      Niagara (1953)|      Drama|Thriller|\n",
      "|For All Mankind (...|         Documentary|\n",
      "|Color of Paradise...|               Drama|\n",
      "|I Know Where I'm ...|   Drama|Romance|War|\n",
      "|  Chosen, The (1981)|               Drama|\n",
      "|Road Home, The (W...|       Drama|Romance|\n",
      "|      Scrooge (1970)|Drama|Fantasy|Mus...|\n",
      "|        Proof (1991)|Comedy|Drama|Romance|\n",
      "|Parallax View, Th...|            Thriller|\n",
      "|This Gun for Hire...|Crime|Film-Noir|T...|\n",
      "|Roaring Twenties,...|Crime|Drama|Thriller|\n",
      "|Mutiny on the Bou...|Adventure|Drama|R...|\n",
      "|In the Realms of ...|Animation|Documen...|\n",
      "|Twentieth Century...|              Comedy|\n",
      "|Call Northside 77...|Crime|Drama|Film-...|\n",
      "|Browning Version,...|               Drama|\n",
      "|  Chalet Girl (2011)|      Comedy|Romance|\n",
      "+--------------------+--------------------+\n",
      "\n"
     ]
    }
   ],
   "source": [
    "spark.sql('SELECT m.title, m.genres \\\n",
    "           FROM movies m LEFT JOIN ratings r ON m.movieID=r.movieID \\\n",
    "           WHERE r.rating is null').show()"
   ]
  },
  {
   "cell_type": "markdown",
   "metadata": {},
   "source": [
    "### Q4: List Movie Genres"
   ]
  },
  {
   "cell_type": "code",
   "execution_count": 28,
   "metadata": {},
   "outputs": [
    {
     "name": "stdout",
     "output_type": "stream",
     "text": [
      "+--------------------+\n",
      "|              genres|\n",
      "+--------------------+\n",
      "|Comedy|Horror|Thr...|\n",
      "|Adventure|Sci-Fi|...|\n",
      "|Action|Adventure|...|\n",
      "| Action|Drama|Horror|\n",
      "|Action|Animation|...|\n",
      "|Animation|Childre...|\n",
      "|Action|Adventure|...|\n",
      "|    Adventure|Sci-Fi|\n",
      "|Documentary|Music...|\n",
      "|Adventure|Childre...|\n",
      "| Adventure|Animation|\n",
      "| Musical|Romance|War|\n",
      "|Action|Adventure|...|\n",
      "|Adventure|Childre...|\n",
      "|Comedy|Crime|Horr...|\n",
      "|Crime|Drama|Fanta...|\n",
      "|Comedy|Mystery|Th...|\n",
      "|   Adventure|Fantasy|\n",
      "|Horror|Romance|Sc...|\n",
      "|Drama|Film-Noir|R...|\n",
      "+--------------------+\n",
      "only showing top 20 rows\n",
      "\n"
     ]
    }
   ],
   "source": [
    "spark.sql('SELECT distinct genres \\\n",
    "           FROM movies').show()"
   ]
  },
  {
   "cell_type": "markdown",
   "metadata": {},
   "source": [
    "### Q5: Movie for Each Category"
   ]
  },
  {
   "cell_type": "code",
   "execution_count": 29,
   "metadata": {},
   "outputs": [
    {
     "name": "stdout",
     "output_type": "stream",
     "text": [
      "+------------------+\n",
      "|          Category|\n",
      "+------------------+\n",
      "|(no genres listed)|\n",
      "|            Action|\n",
      "|         Adventure|\n",
      "|         Animation|\n",
      "|          Children|\n",
      "|            Comedy|\n",
      "|             Crime|\n",
      "|       Documentary|\n",
      "|             Drama|\n",
      "|           Fantasy|\n",
      "|         Film-Noir|\n",
      "|            Horror|\n",
      "|              IMAX|\n",
      "|           Musical|\n",
      "|           Mystery|\n",
      "|           Romance|\n",
      "|            Sci-Fi|\n",
      "|          Thriller|\n",
      "|               War|\n",
      "|           Western|\n",
      "+------------------+\n",
      "\n"
     ]
    }
   ],
   "source": [
    "spark.sql('SELECT distinct Category \\\n",
    "           FROM movies \\\n",
    "           LATERAL VIEW explode(split(genres, \"[|]\")) \\\n",
    "           AS Category \\\n",
    "           ORDER BY Category').show()"
   ]
  },
  {
   "cell_type": "code",
   "execution_count": 30,
   "metadata": {},
   "outputs": [
    {
     "name": "stdout",
     "output_type": "stream",
     "text": [
      "+------------------+-------+\n",
      "|          Category|Numbers|\n",
      "+------------------+-------+\n",
      "|             Drama|   4361|\n",
      "|            Comedy|   3756|\n",
      "|          Thriller|   1894|\n",
      "|            Action|   1828|\n",
      "|           Romance|   1596|\n",
      "|         Adventure|   1263|\n",
      "|             Crime|   1199|\n",
      "|            Sci-Fi|    980|\n",
      "|            Horror|    978|\n",
      "|           Fantasy|    779|\n",
      "|          Children|    664|\n",
      "|         Animation|    611|\n",
      "|           Mystery|    573|\n",
      "|       Documentary|    440|\n",
      "|               War|    382|\n",
      "|           Musical|    334|\n",
      "|           Western|    167|\n",
      "|              IMAX|    158|\n",
      "|         Film-Noir|     87|\n",
      "|(no genres listed)|     34|\n",
      "+------------------+-------+\n",
      "\n"
     ]
    }
   ],
   "source": [
    "spark.sql('SELECT Category, COUNT(movieID) AS Numbers\\\n",
    "           FROM movies \\\n",
    "           LATERAL VIEW explode(split(genres, \"[|]\")) \\\n",
    "           AS Category \\\n",
    "           GROUP BY Category \\\n",
    "           ORDER BY Numbers DESC').show()"
   ]
  },
  {
   "cell_type": "code",
   "execution_count": 31,
   "metadata": {},
   "outputs": [
    {
     "name": "stdout",
     "output_type": "stream",
     "text": [
      "+---------+--------------------+\n",
      "| Category|               title|\n",
      "+---------+--------------------+\n",
      "|    Drama|  Money Train (1995)|\n",
      "| Thriller|Usual Suspects, T...|\n",
      "|Animation|Snow White and th...|\n",
      "|   Comedy| Pretty Woman (1990)|\n",
      "|Adventure|Bedknobs and Broo...|\n",
      "| Thriller|Touch of Evil (1958)|\n",
      "|   Horror|   Body Parts (1991)|\n",
      "|   Comedy|     In & Out (1997)|\n",
      "|    Crime|King of New York ...|\n",
      "|    Drama|Dream for an Inso...|\n",
      "| Children|Apple Dumpling Ga...|\n",
      "|    Drama|Love Is the Devil...|\n",
      "|    Drama|American History ...|\n",
      "|   Comedy|Hard Core Logo (1...|\n",
      "|   Action| Superman III (1983)|\n",
      "|   Horror|    Tarantula (1955)|\n",
      "|  Mystery|Red Violin, The (...|\n",
      "| Thriller|Tequila Sunrise (...|\n",
      "|    Drama|    Hairspray (1988)|\n",
      "|   Sci-Fi| Galaxy Quest (1999)|\n",
      "+---------+--------------------+\n",
      "only showing top 20 rows\n",
      "\n"
     ]
    }
   ],
   "source": [
    "spark.sql('SELECT Category, title \\\n",
    "           FROM movies \\\n",
    "           LATERAL VIEW explode(split(genres, \"[|]\")) \\\n",
    "           AS Category \\\n",
    "           GROUP BY Category,title').show()"
   ]
  },
  {
   "cell_type": "code",
   "execution_count": 32,
   "metadata": {},
   "outputs": [
    {
     "name": "stdout",
     "output_type": "stream",
     "text": [
      "+------------------+--------------------+\n",
      "|          Category|     lists_of_movies|\n",
      "+------------------+--------------------+\n",
      "|             Crime|Stealing Rembrand...|\n",
      "|           Romance|Vampire in Brookl...|\n",
      "|          Thriller|Element of Crime,...|\n",
      "|         Adventure|Ice Age: Collisio...|\n",
      "|             Drama|Airport '77 (1977...|\n",
      "|               War|General, The (192...|\n",
      "|       Documentary|Jim & Andy: The G...|\n",
      "|           Fantasy|Masters of the Un...|\n",
      "|           Mystery|Before and After ...|\n",
      "|           Musical|U2: Rattle and Hu...|\n",
      "|         Animation|Ice Age: Collisio...|\n",
      "|         Film-Noir|Rififi (Du rififi...|\n",
      "|(no genres listed)|T2 3-D: Battle Ac...|\n",
      "|              IMAX|Harry Potter and ...|\n",
      "|            Horror|Tormented (1960),...|\n",
      "|           Western|Man Who Shot Libe...|\n",
      "|            Comedy|Hysteria (2011),H...|\n",
      "|          Children|Ice Age: Collisio...|\n",
      "|            Action|Stealing Rembrand...|\n",
      "|            Sci-Fi|Push (2009),SORI:...|\n",
      "+------------------+--------------------+\n",
      "\n"
     ]
    }
   ],
   "source": [
    "lists_of_movies_per_category = spark.sql('SELECT t.Category, CONCAT_WS(\",\", COLLECT_SET(t.title)) AS lists_of_movies\\\n",
    "           FROM \\\n",
    "           ( \\\n",
    "           SELECT Category, title \\\n",
    "           FROM movies \\\n",
    "           LATERAL VIEW explode(split(genres, \"[|]\")) \\\n",
    "           AS Category \\\n",
    "           GROUP BY Category, title \\\n",
    "           ) AS t \\\n",
    "           GROUP BY t.Category')\n",
    "\n",
    "lists_of_movies_per_category.show()"
   ]
  },
  {
   "cell_type": "code",
   "execution_count": 33,
   "metadata": {},
   "outputs": [
    {
     "data": {
      "text/html": [
       "<div>\n",
       "<style scoped>\n",
       "    .dataframe tbody tr th:only-of-type {\n",
       "        vertical-align: middle;\n",
       "    }\n",
       "\n",
       "    .dataframe tbody tr th {\n",
       "        vertical-align: top;\n",
       "    }\n",
       "\n",
       "    .dataframe thead th {\n",
       "        text-align: right;\n",
       "    }\n",
       "</style>\n",
       "<table border=\"1\" class=\"dataframe\">\n",
       "  <thead>\n",
       "    <tr style=\"text-align: right;\">\n",
       "      <th></th>\n",
       "      <th>Category</th>\n",
       "      <th>lists_of_movies</th>\n",
       "    </tr>\n",
       "  </thead>\n",
       "  <tbody>\n",
       "    <tr>\n",
       "      <th>0</th>\n",
       "      <td>Crime</td>\n",
       "      <td>Stealing Rembrandt (Rembrandt) (2003),The Gamb...</td>\n",
       "    </tr>\n",
       "    <tr>\n",
       "      <th>1</th>\n",
       "      <td>Romance</td>\n",
       "      <td>Vampire in Brooklyn (1995),Hysteria (2011),Far...</td>\n",
       "    </tr>\n",
       "    <tr>\n",
       "      <th>2</th>\n",
       "      <td>Thriller</td>\n",
       "      <td>Element of Crime, The (Forbrydelsens Element) ...</td>\n",
       "    </tr>\n",
       "    <tr>\n",
       "      <th>3</th>\n",
       "      <td>Adventure</td>\n",
       "      <td>Ice Age: Collision Course (2016),Masters of th...</td>\n",
       "    </tr>\n",
       "    <tr>\n",
       "      <th>4</th>\n",
       "      <td>Drama</td>\n",
       "      <td>Airport '77 (1977),Element of Crime, The (Forb...</td>\n",
       "    </tr>\n",
       "    <tr>\n",
       "      <th>5</th>\n",
       "      <td>War</td>\n",
       "      <td>General, The (1926),Joyeux Noël (Merry Christm...</td>\n",
       "    </tr>\n",
       "    <tr>\n",
       "      <th>6</th>\n",
       "      <td>Documentary</td>\n",
       "      <td>Jim &amp; Andy: The Great Beyond (2017),U2: Rattle...</td>\n",
       "    </tr>\n",
       "    <tr>\n",
       "      <th>7</th>\n",
       "      <td>Fantasy</td>\n",
       "      <td>Masters of the Universe (1987),Odd Life of Tim...</td>\n",
       "    </tr>\n",
       "    <tr>\n",
       "      <th>8</th>\n",
       "      <td>Mystery</td>\n",
       "      <td>Before and After (1996),Primal Fear (1996),'Sa...</td>\n",
       "    </tr>\n",
       "    <tr>\n",
       "      <th>9</th>\n",
       "      <td>Musical</td>\n",
       "      <td>U2: Rattle and Hum (1988),Sword in the Stone, ...</td>\n",
       "    </tr>\n",
       "    <tr>\n",
       "      <th>10</th>\n",
       "      <td>Animation</td>\n",
       "      <td>Ice Age: Collision Course (2016),Planes (2013)...</td>\n",
       "    </tr>\n",
       "    <tr>\n",
       "      <th>11</th>\n",
       "      <td>Film-Noir</td>\n",
       "      <td>Rififi (Du rififi chez les hommes) (1955),Swee...</td>\n",
       "    </tr>\n",
       "    <tr>\n",
       "      <th>12</th>\n",
       "      <td>(no genres listed)</td>\n",
       "      <td>T2 3-D: Battle Across Time (1996),A Midsummer ...</td>\n",
       "    </tr>\n",
       "    <tr>\n",
       "      <th>13</th>\n",
       "      <td>IMAX</td>\n",
       "      <td>Harry Potter and the Prisoner of Azkaban (2004...</td>\n",
       "    </tr>\n",
       "    <tr>\n",
       "      <th>14</th>\n",
       "      <td>Horror</td>\n",
       "      <td>Tormented (1960),Vampire in Brooklyn (1995),'S...</td>\n",
       "    </tr>\n",
       "    <tr>\n",
       "      <th>15</th>\n",
       "      <td>Western</td>\n",
       "      <td>Man Who Shot Liberty Valance, The (1962),Lone ...</td>\n",
       "    </tr>\n",
       "    <tr>\n",
       "      <th>16</th>\n",
       "      <td>Comedy</td>\n",
       "      <td>Hysteria (2011),Humpday (2009),Meet John Doe (...</td>\n",
       "    </tr>\n",
       "    <tr>\n",
       "      <th>17</th>\n",
       "      <td>Children</td>\n",
       "      <td>Ice Age: Collision Course (2016),Nut Job, The ...</td>\n",
       "    </tr>\n",
       "    <tr>\n",
       "      <th>18</th>\n",
       "      <td>Action</td>\n",
       "      <td>Stealing Rembrandt (Rembrandt) (2003),Masters ...</td>\n",
       "    </tr>\n",
       "    <tr>\n",
       "      <th>19</th>\n",
       "      <td>Sci-Fi</td>\n",
       "      <td>Push (2009),SORI: Voice from the Heart (2016),...</td>\n",
       "    </tr>\n",
       "  </tbody>\n",
       "</table>\n",
       "</div>"
      ],
      "text/plain": [
       "              Category                                    lists_of_movies\n",
       "0                Crime  Stealing Rembrandt (Rembrandt) (2003),The Gamb...\n",
       "1              Romance  Vampire in Brooklyn (1995),Hysteria (2011),Far...\n",
       "2             Thriller  Element of Crime, The (Forbrydelsens Element) ...\n",
       "3            Adventure  Ice Age: Collision Course (2016),Masters of th...\n",
       "4                Drama  Airport '77 (1977),Element of Crime, The (Forb...\n",
       "5                  War  General, The (1926),Joyeux Noël (Merry Christm...\n",
       "6          Documentary  Jim & Andy: The Great Beyond (2017),U2: Rattle...\n",
       "7              Fantasy  Masters of the Universe (1987),Odd Life of Tim...\n",
       "8              Mystery  Before and After (1996),Primal Fear (1996),'Sa...\n",
       "9              Musical  U2: Rattle and Hum (1988),Sword in the Stone, ...\n",
       "10           Animation  Ice Age: Collision Course (2016),Planes (2013)...\n",
       "11           Film-Noir  Rififi (Du rififi chez les hommes) (1955),Swee...\n",
       "12  (no genres listed)  T2 3-D: Battle Across Time (1996),A Midsummer ...\n",
       "13                IMAX  Harry Potter and the Prisoner of Azkaban (2004...\n",
       "14              Horror  Tormented (1960),Vampire in Brooklyn (1995),'S...\n",
       "15             Western  Man Who Shot Liberty Valance, The (1962),Lone ...\n",
       "16              Comedy  Hysteria (2011),Humpday (2009),Meet John Doe (...\n",
       "17            Children  Ice Age: Collision Course (2016),Nut Job, The ...\n",
       "18              Action  Stealing Rembrandt (Rembrandt) (2003),Masters ...\n",
       "19              Sci-Fi  Push (2009),SORI: Voice from the Heart (2016),..."
      ]
     },
     "execution_count": 33,
     "metadata": {},
     "output_type": "execute_result"
    }
   ],
   "source": [
    "lists_of_movies_per_category.toPandas()"
   ]
  },
  {
   "cell_type": "markdown",
   "metadata": {},
   "source": [
    "### Q6: Number of ratings per user"
   ]
  },
  {
   "cell_type": "code",
   "execution_count": 34,
   "metadata": {},
   "outputs": [
    {
     "name": "stdout",
     "output_type": "stream",
     "text": [
      "+------+-----------------+\n",
      "|userID|Number_of_ratings|\n",
      "+------+-----------------+\n",
      "|   414|             2698|\n",
      "|   599|             2478|\n",
      "|   474|             2108|\n",
      "|   448|             1864|\n",
      "|   274|             1346|\n",
      "|   610|             1302|\n",
      "|    68|             1260|\n",
      "|   380|             1218|\n",
      "|   606|             1115|\n",
      "|   288|             1055|\n",
      "|   249|             1046|\n",
      "|   387|             1027|\n",
      "|   182|              977|\n",
      "|   307|              975|\n",
      "|   603|              943|\n",
      "|   298|              939|\n",
      "|   177|              904|\n",
      "|   318|              879|\n",
      "|   232|              862|\n",
      "|   480|              836|\n",
      "+------+-----------------+\n",
      "only showing top 20 rows\n",
      "\n"
     ]
    }
   ],
   "source": [
    "spark.sql('SELECT userID, COUNT(rating) AS Number_of_ratings \\\n",
    "           FROM ratings \\\n",
    "           GROUP BY userID \\\n",
    "           ORDER BY Number_of_ratings DESC').show()"
   ]
  },
  {
   "cell_type": "markdown",
   "metadata": {},
   "source": [
    "### Q7: Number of ratings per movie"
   ]
  },
  {
   "cell_type": "code",
   "execution_count": 35,
   "metadata": {},
   "outputs": [
    {
     "name": "stdout",
     "output_type": "stream",
     "text": [
      "+-------+-----------------+\n",
      "|movieID|Number_of_ratings|\n",
      "+-------+-----------------+\n",
      "|    356|              329|\n",
      "|    318|              317|\n",
      "|    296|              307|\n",
      "|    593|              279|\n",
      "|   2571|              278|\n",
      "|    260|              251|\n",
      "|    480|              238|\n",
      "|    110|              237|\n",
      "|    589|              224|\n",
      "|    527|              220|\n",
      "|   2959|              218|\n",
      "|      1|              215|\n",
      "|   1196|              211|\n",
      "|   2858|              204|\n",
      "|     50|              204|\n",
      "|     47|              203|\n",
      "|    780|              202|\n",
      "|    150|              201|\n",
      "|   1198|              200|\n",
      "|   4993|              198|\n",
      "+-------+-----------------+\n",
      "only showing top 20 rows\n",
      "\n"
     ]
    }
   ],
   "source": [
    "spark.sql('SELECT movieID, COUNT(rating) AS Number_of_ratings \\\n",
    "           FROM ratings \\\n",
    "           GROUP BY movieID \\\n",
    "           ORDER BY Number_of_ratings DESC').show()"
   ]
  },
  {
   "cell_type": "markdown",
   "metadata": {},
   "source": [
    "### Q8: Number of movies each rating"
   ]
  },
  {
   "cell_type": "code",
   "execution_count": 36,
   "metadata": {},
   "outputs": [
    {
     "name": "stdout",
     "output_type": "stream",
     "text": [
      "+------+----------------+\n",
      "|rating|Number_of_movies|\n",
      "+------+----------------+\n",
      "|   4.0|           26818|\n",
      "|   3.0|           20047|\n",
      "|   5.0|           13211|\n",
      "|   3.5|           13136|\n",
      "|   4.5|            8551|\n",
      "|   2.0|            7551|\n",
      "|   2.5|            5550|\n",
      "|   1.0|            2811|\n",
      "|   1.5|            1791|\n",
      "|   0.5|            1370|\n",
      "+------+----------------+\n",
      "\n"
     ]
    }
   ],
   "source": [
    "spark.sql('SELECT rating, COUNT(movieID) AS Number_of_movies \\\n",
    "           FROM ratings \\\n",
    "           GROUP BY rating \\\n",
    "           ORDER BY Number_of_movies DESC').show()"
   ]
  },
  {
   "cell_type": "markdown",
   "metadata": {},
   "source": [
    "## Part 3: Spark ALS based approach for training model\n",
    "We will use an Spark ML to predict the ratings, so let's reload \"ratings.csv\" using ``sc.textFile`` and then convert it to the form of (user, item, rating) tuples."
   ]
  },
  {
   "cell_type": "code",
   "execution_count": 37,
   "metadata": {},
   "outputs": [
    {
     "name": "stdout",
     "output_type": "stream",
     "text": [
      "+------+-------+------+---------+\n",
      "|userId|movieId|rating|timestamp|\n",
      "+------+-------+------+---------+\n",
      "|     1|      1|   4.0|964982703|\n",
      "|     1|      3|   4.0|964981247|\n",
      "|     1|      6|   4.0|964982224|\n",
      "|     1|     47|   5.0|964983815|\n",
      "|     1|     50|   5.0|964982931|\n",
      "|     1|     70|   3.0|964982400|\n",
      "|     1|    101|   5.0|964980868|\n",
      "|     1|    110|   4.0|964982176|\n",
      "|     1|    151|   5.0|964984041|\n",
      "|     1|    157|   5.0|964984100|\n",
      "|     1|    163|   5.0|964983650|\n",
      "|     1|    216|   5.0|964981208|\n",
      "|     1|    223|   3.0|964980985|\n",
      "|     1|    231|   5.0|964981179|\n",
      "|     1|    235|   4.0|964980908|\n",
      "|     1|    260|   5.0|964981680|\n",
      "|     1|    296|   3.0|964982967|\n",
      "|     1|    316|   3.0|964982310|\n",
      "|     1|    333|   5.0|964981179|\n",
      "|     1|    349|   4.0|964982563|\n",
      "+------+-------+------+---------+\n",
      "only showing top 20 rows\n",
      "\n"
     ]
    }
   ],
   "source": [
    "ratings_df.show()"
   ]
  },
  {
   "cell_type": "code",
   "execution_count": 38,
   "metadata": {},
   "outputs": [
    {
     "data": {
      "text/plain": [
       "StructType(List(StructField(userId,StringType,true),StructField(movieId,StringType,true),StructField(rating,StringType,true),StructField(timestamp,StringType,true)))"
      ]
     },
     "execution_count": 38,
     "metadata": {},
     "output_type": "execute_result"
    }
   ],
   "source": [
    "ratings_df.schema"
   ]
  },
  {
   "cell_type": "code",
   "execution_count": 39,
   "metadata": {},
   "outputs": [],
   "source": [
    "movie_ratings=ratings_df.drop('timestamp')"
   ]
  },
  {
   "cell_type": "code",
   "execution_count": 40,
   "metadata": {},
   "outputs": [],
   "source": [
    "# Data type convert\n",
    "from pyspark.sql.types import IntegerType, FloatType\n",
    "movie_ratings = movie_ratings.withColumn(\"userId\", movie_ratings[\"userId\"].cast(IntegerType()))\n",
    "movie_ratings = movie_ratings.withColumn(\"movieId\", movie_ratings[\"movieId\"].cast(IntegerType()))\n",
    "movie_ratings = movie_ratings.withColumn(\"rating\", movie_ratings[\"rating\"].cast(FloatType()))"
   ]
  },
  {
   "cell_type": "code",
   "execution_count": 41,
   "metadata": {},
   "outputs": [
    {
     "name": "stdout",
     "output_type": "stream",
     "text": [
      "+------+-------+------+\n",
      "|userId|movieId|rating|\n",
      "+------+-------+------+\n",
      "|     1|      1|   4.0|\n",
      "|     1|      3|   4.0|\n",
      "|     1|      6|   4.0|\n",
      "|     1|     47|   5.0|\n",
      "|     1|     50|   5.0|\n",
      "|     1|     70|   3.0|\n",
      "|     1|    101|   5.0|\n",
      "|     1|    110|   4.0|\n",
      "|     1|    151|   5.0|\n",
      "|     1|    157|   5.0|\n",
      "|     1|    163|   5.0|\n",
      "|     1|    216|   5.0|\n",
      "|     1|    223|   3.0|\n",
      "|     1|    231|   5.0|\n",
      "|     1|    235|   4.0|\n",
      "|     1|    260|   5.0|\n",
      "|     1|    296|   3.0|\n",
      "|     1|    316|   3.0|\n",
      "|     1|    333|   5.0|\n",
      "|     1|    349|   4.0|\n",
      "+------+-------+------+\n",
      "only showing top 20 rows\n",
      "\n"
     ]
    }
   ],
   "source": [
    "movie_ratings.show()"
   ]
  },
  {
   "cell_type": "code",
   "execution_count": 42,
   "metadata": {},
   "outputs": [
    {
     "data": {
      "text/plain": [
       "StructType(List(StructField(userId,IntegerType,true),StructField(movieId,IntegerType,true),StructField(rating,FloatType,true)))"
      ]
     },
     "execution_count": 42,
     "metadata": {},
     "output_type": "execute_result"
    }
   ],
   "source": [
    "movie_ratings.schema"
   ]
  },
  {
   "cell_type": "code",
   "execution_count": 43,
   "metadata": {},
   "outputs": [
    {
     "data": {
      "text/html": [
       "<div>\n",
       "<style scoped>\n",
       "    .dataframe tbody tr th:only-of-type {\n",
       "        vertical-align: middle;\n",
       "    }\n",
       "\n",
       "    .dataframe tbody tr th {\n",
       "        vertical-align: top;\n",
       "    }\n",
       "\n",
       "    .dataframe thead th {\n",
       "        text-align: right;\n",
       "    }\n",
       "</style>\n",
       "<table border=\"1\" class=\"dataframe\">\n",
       "  <thead>\n",
       "    <tr style=\"text-align: right;\">\n",
       "      <th></th>\n",
       "      <th>userId</th>\n",
       "      <th>movieId</th>\n",
       "      <th>rating</th>\n",
       "    </tr>\n",
       "  </thead>\n",
       "  <tbody>\n",
       "    <tr>\n",
       "      <th>0</th>\n",
       "      <td>1</td>\n",
       "      <td>1</td>\n",
       "      <td>4.0</td>\n",
       "    </tr>\n",
       "    <tr>\n",
       "      <th>1</th>\n",
       "      <td>1</td>\n",
       "      <td>3</td>\n",
       "      <td>4.0</td>\n",
       "    </tr>\n",
       "    <tr>\n",
       "      <th>2</th>\n",
       "      <td>1</td>\n",
       "      <td>6</td>\n",
       "      <td>4.0</td>\n",
       "    </tr>\n",
       "    <tr>\n",
       "      <th>3</th>\n",
       "      <td>1</td>\n",
       "      <td>47</td>\n",
       "      <td>5.0</td>\n",
       "    </tr>\n",
       "    <tr>\n",
       "      <th>4</th>\n",
       "      <td>1</td>\n",
       "      <td>50</td>\n",
       "      <td>5.0</td>\n",
       "    </tr>\n",
       "  </tbody>\n",
       "</table>\n",
       "</div>"
      ],
      "text/plain": [
       "   userId  movieId  rating\n",
       "0       1        1     4.0\n",
       "1       1        3     4.0\n",
       "2       1        6     4.0\n",
       "3       1       47     5.0\n",
       "4       1       50     5.0"
      ]
     },
     "execution_count": 43,
     "metadata": {},
     "output_type": "execute_result"
    }
   ],
   "source": [
    "movie_ratings.toPandas().head()"
   ]
  },
  {
   "cell_type": "markdown",
   "metadata": {},
   "source": [
    "### ALS Model, Selection and Evaluation\n",
    "\n",
    "With the ALS model, we can use a grid search to find the optimal hyperparameters.\n",
    "\n",
    "The alternating least squares (ALS) algorithm factorizes a given matrix R into two factors U and V such that R≈UTV. The unknown row dimension is given as a parameter to the algorithm and is called latent factors. Since matrix factorization can be used in the context of recommendation, the matrices U and V can be called user and item matrix, respectively. The ith column of the user matrix is denoted by u and the ith column of the item matrix is vi. The matrix R can be called the ratings matrix with (R)i,j=ri,j."
   ]
  },
  {
   "cell_type": "code",
   "execution_count": 44,
   "metadata": {},
   "outputs": [],
   "source": [
    "# import package\n",
    "from pyspark.ml.evaluation import RegressionEvaluator\n",
    "from pyspark.ml.recommendation import ALS\n",
    "from pyspark.ml.tuning import CrossValidator,ParamGridBuilder"
   ]
  },
  {
   "cell_type": "code",
   "execution_count": 45,
   "metadata": {},
   "outputs": [],
   "source": [
    "# Create test and train set\n",
    "(training,test)=movie_ratings.randomSplit([0.8,0.2])"
   ]
  },
  {
   "cell_type": "code",
   "execution_count": 46,
   "metadata": {},
   "outputs": [],
   "source": [
    "# Create ALS model\n",
    "als = ALS(maxIter=5, rank=10, \n",
    "          regParam=0.01, userCol=\"userId\", \n",
    "          itemCol=\"movieId\", ratingCol=\"rating\",\n",
    "          coldStartStrategy=\"drop\")\n",
    "\n",
    "# als model for refitting\n",
    "#als = ALS(userCol=\"userId\", itemCol=\"movieId\", ratingCol=\"rating\", coldStartStrategy=\"drop\")"
   ]
  },
  {
   "cell_type": "code",
   "execution_count": 47,
   "metadata": {},
   "outputs": [],
   "source": [
    "# Tune model using ParamGridBuilder\n",
    "paramGrid = ParamGridBuilder()\\\n",
    "            .addGrid(als.regParam, [0.1, 0.01, 0.001])\\\n",
    "            .addGrid(als.maxIter, [3, 5, 10])\\\n",
    "            .addGrid(als.rank, [5, 10, 15])\\\n",
    "            .build()"
   ]
  },
  {
   "cell_type": "code",
   "execution_count": 48,
   "metadata": {},
   "outputs": [],
   "source": [
    "# Define evaluator as RMSE\n",
    "evaluator = RegressionEvaluator(metricName=\"rmse\", labelCol=\"rating\",\n",
    "                                predictionCol=\"prediction\")"
   ]
  },
  {
   "cell_type": "code",
   "execution_count": 49,
   "metadata": {},
   "outputs": [],
   "source": [
    "# Build Cross validation \n",
    "crossval = CrossValidator(estimator=als,\n",
    "                          estimatorParamMaps=paramGrid,\n",
    "                          evaluator=evaluator,\n",
    "                          numFolds=5)"
   ]
  },
  {
   "cell_type": "code",
   "execution_count": 50,
   "metadata": {},
   "outputs": [
    {
     "name": "stdout",
     "output_type": "stream",
     "text": [
      "Root-mean-square error = 0.5041225853413313\n"
     ]
    }
   ],
   "source": [
    "# Fit ALS model to training data\n",
    "model = als.fit(training)\n",
    "predictions = model.transform(training)\n",
    "rmse = evaluator.evaluate(predictions)\n",
    "print(\"Root-mean-square error = \" + str(rmse))"
   ]
  },
  {
   "cell_type": "code",
   "execution_count": 51,
   "metadata": {},
   "outputs": [
    {
     "name": "stdout",
     "output_type": "stream",
     "text": [
      "Root-mean-square error = 0.6384267293651439\n"
     ]
    }
   ],
   "source": [
    "# Extract best model from the tuning exercise using ParamGridBuilder\n",
    "cvModel = crossval.fit(training)\n",
    "predictions = cvModel.transform(training)\n",
    "rmse = evaluator.evaluate(predictions)\n",
    "print(\"Root-mean-square error = \" + str(rmse))"
   ]
  },
  {
   "cell_type": "markdown",
   "metadata": {},
   "source": [
    "### Model testing\n",
    "And finally, make a prediction and check the testing error."
   ]
  },
  {
   "cell_type": "code",
   "execution_count": 52,
   "metadata": {},
   "outputs": [],
   "source": [
    "# Generate predictions and evaluate using RMSE\n",
    "best_model = cvModel.bestModel\n",
    "predictions=best_model.transform(test)\n",
    "rmse = evaluator.evaluate(predictions)"
   ]
  },
  {
   "cell_type": "code",
   "execution_count": 53,
   "metadata": {},
   "outputs": [
    {
     "name": "stdout",
     "output_type": "stream",
     "text": [
      "RMSE = 0.8839192092830443\n",
      "** Best Model **\n",
      " Rank: 5\n",
      " MaxIter: 10\n",
      " RegParam: 0.1\n"
     ]
    }
   ],
   "source": [
    "# Print evaluation metrics and model parameters\n",
    "print (\"RMSE = \"+str(rmse))\n",
    "print (\"** Best Model **\")\n",
    "print (\" Rank: \"+str(best_model._java_obj.parent().getRank())), \n",
    "print (\" MaxIter: \"+str(best_model._java_obj.parent().getMaxIter())), \n",
    "print (\" RegParam: \"+str(best_model._java_obj.parent().getRegParam()))"
   ]
  },
  {
   "cell_type": "code",
   "execution_count": 54,
   "metadata": {},
   "outputs": [
    {
     "name": "stdout",
     "output_type": "stream",
     "text": [
      "+------+-------+------+----------+\n",
      "|userId|movieId|rating|prediction|\n",
      "+------+-------+------+----------+\n",
      "|   610|    471|   4.0|  3.548472|\n",
      "|   555|    471|   3.0| 3.6636455|\n",
      "|   171|    471|   3.0|  4.306225|\n",
      "|   287|    471|   4.5|  2.147298|\n",
      "|   469|    471|   5.0|  3.511252|\n",
      "|   159|   1088|   4.0| 3.2926195|\n",
      "|   177|   1088|   3.5| 3.5520046|\n",
      "|   286|   1088|   3.5| 3.3187864|\n",
      "|   583|   1088|   3.5|  3.508195|\n",
      "|   391|   1088|   1.0| 2.7930572|\n",
      "|    68|   1088|   3.5|  3.488113|\n",
      "|   104|   1088|   3.0| 3.7940018|\n",
      "|   268|   1238|   5.0| 3.8081765|\n",
      "|   462|   1238|   3.5| 3.7400713|\n",
      "|   156|   1238|   4.0|  3.812151|\n",
      "|   325|   1342|   4.0| 2.3232017|\n",
      "|   137|   1580|   3.5|  3.300006|\n",
      "|   322|   1580|   3.5|  3.111376|\n",
      "|    34|   1580|   2.5|  3.301279|\n",
      "|   368|   1580|   3.0|  2.931051|\n",
      "+------+-------+------+----------+\n",
      "only showing top 20 rows\n",
      "\n"
     ]
    }
   ],
   "source": [
    "predictions.show()"
   ]
  },
  {
   "cell_type": "code",
   "execution_count": 55,
   "metadata": {},
   "outputs": [
    {
     "data": {
      "text/html": [
       "<div>\n",
       "<style scoped>\n",
       "    .dataframe tbody tr th:only-of-type {\n",
       "        vertical-align: middle;\n",
       "    }\n",
       "\n",
       "    .dataframe tbody tr th {\n",
       "        vertical-align: top;\n",
       "    }\n",
       "\n",
       "    .dataframe thead th {\n",
       "        text-align: right;\n",
       "    }\n",
       "</style>\n",
       "<table border=\"1\" class=\"dataframe\">\n",
       "  <thead>\n",
       "    <tr style=\"text-align: right;\">\n",
       "      <th></th>\n",
       "      <th>userId</th>\n",
       "      <th>movieId</th>\n",
       "      <th>rating</th>\n",
       "      <th>prediction</th>\n",
       "    </tr>\n",
       "  </thead>\n",
       "  <tbody>\n",
       "    <tr>\n",
       "      <th>0</th>\n",
       "      <td>610</td>\n",
       "      <td>471</td>\n",
       "      <td>4.0</td>\n",
       "      <td>3.548472</td>\n",
       "    </tr>\n",
       "    <tr>\n",
       "      <th>1</th>\n",
       "      <td>555</td>\n",
       "      <td>471</td>\n",
       "      <td>3.0</td>\n",
       "      <td>3.663646</td>\n",
       "    </tr>\n",
       "    <tr>\n",
       "      <th>2</th>\n",
       "      <td>171</td>\n",
       "      <td>471</td>\n",
       "      <td>3.0</td>\n",
       "      <td>4.306225</td>\n",
       "    </tr>\n",
       "    <tr>\n",
       "      <th>3</th>\n",
       "      <td>287</td>\n",
       "      <td>471</td>\n",
       "      <td>4.5</td>\n",
       "      <td>2.147298</td>\n",
       "    </tr>\n",
       "    <tr>\n",
       "      <th>4</th>\n",
       "      <td>469</td>\n",
       "      <td>471</td>\n",
       "      <td>5.0</td>\n",
       "      <td>3.511252</td>\n",
       "    </tr>\n",
       "  </tbody>\n",
       "</table>\n",
       "</div>"
      ],
      "text/plain": [
       "   userId  movieId  rating  prediction\n",
       "0     610      471     4.0    3.548472\n",
       "1     555      471     3.0    3.663646\n",
       "2     171      471     3.0    4.306225\n",
       "3     287      471     4.5    2.147298\n",
       "4     469      471     5.0    3.511252"
      ]
     },
     "execution_count": 55,
     "metadata": {},
     "output_type": "execute_result"
    }
   ],
   "source": [
    "predictions_temp = predictions.toPandas()\n",
    "predictions_temp.head()"
   ]
  },
  {
   "cell_type": "code",
   "execution_count": 56,
   "metadata": {},
   "outputs": [
    {
     "data": {
      "text/plain": [
       "Text(0.5, 0.92, 'Actual & predicted rating by users and movie ID')"
      ]
     },
     "execution_count": 56,
     "metadata": {},
     "output_type": "execute_result"
    },
    {
     "data": {
      "image/png": "[encoded data removed]",
      "text/plain": [
       "<Figure size 864x720 with 1 Axes>"
      ]
     },
     "metadata": {
      "needs_background": "light"
     },
     "output_type": "display_data"
    }
   ],
   "source": [
    "# Plot all ratings and predicted ratings by users and movies\n",
    "fig = plt.figure(figsize=(12, 10))\n",
    "ax = fig.add_subplot(111, projection='3d')\n",
    "x = predictions_temp['userId']\n",
    "y = predictions_temp['movieId']\n",
    "z = predictions_temp['rating']\n",
    "w = predictions_temp['prediction']\n",
    "\n",
    "ax.scatter(x, y, z, label='rating')\n",
    "ax.scatter(x, y, w, label='prediction')\n",
    "ax.legend()\n",
    "ax.set_xlabel('userId')\n",
    "ax.set_ylabel('movieId')\n",
    "ax.set_zlabel('rating')\n",
    "ax.set_title('Actual & predicted rating by users and movie ID')"
   ]
  },
  {
   "cell_type": "markdown",
   "metadata": {},
   "source": [
    "## Part 4: Model apply to all data and see the performance"
   ]
  },
  {
   "cell_type": "code",
   "execution_count": 57,
   "metadata": {},
   "outputs": [
    {
     "name": "stdout",
     "output_type": "stream",
     "text": [
      "RMSE = 0.6929072606547774\n"
     ]
    }
   ],
   "source": [
    "alldata_prediction = best_model.transform(movie_ratings)\n",
    "rmse = evaluator.evaluate(alldata_prediction)\n",
    "print(\"RMSE = \"+str(rmse))"
   ]
  },
  {
   "cell_type": "code",
   "execution_count": 58,
   "metadata": {},
   "outputs": [],
   "source": [
    "# Re-fitting using new best parameters and whole data set\n",
    "#new_als = ALS(maxIter=10, regParam=0.01, rank=5, userCol=\"userId\", itemCol=\"movieId\", ratingCol=\"rating\", coldStartStrategy=\"drop\")\n",
    "#new_model = new_als.fit(movie_ratings)\n",
    "#predictions = new_model.transform(test)\n",
    "#rmse = evaluator.evaluate(predictions)\n",
    "#print (\"RMSE = \"+str(rmse))"
   ]
  },
  {
   "cell_type": "code",
   "execution_count": 77,
   "metadata": {},
   "outputs": [
    {
     "data": {
      "text/html": [
       "<div>\n",
       "<style scoped>\n",
       "    .dataframe tbody tr th:only-of-type {\n",
       "        vertical-align: middle;\n",
       "    }\n",
       "\n",
       "    .dataframe tbody tr th {\n",
       "        vertical-align: top;\n",
       "    }\n",
       "\n",
       "    .dataframe thead th {\n",
       "        text-align: right;\n",
       "    }\n",
       "</style>\n",
       "<table border=\"1\" class=\"dataframe\">\n",
       "  <thead>\n",
       "    <tr style=\"text-align: right;\">\n",
       "      <th></th>\n",
       "      <th>userId</th>\n",
       "      <th>movieId</th>\n",
       "      <th>rating</th>\n",
       "      <th>prediction</th>\n",
       "      <th>rounded_predictions</th>\n",
       "    </tr>\n",
       "  </thead>\n",
       "  <tbody>\n",
       "    <tr>\n",
       "      <th>0</th>\n",
       "      <td>191</td>\n",
       "      <td>148</td>\n",
       "      <td>5.0</td>\n",
       "      <td>4.924200</td>\n",
       "      <td>5.0</td>\n",
       "    </tr>\n",
       "    <tr>\n",
       "      <th>1</th>\n",
       "      <td>133</td>\n",
       "      <td>471</td>\n",
       "      <td>4.0</td>\n",
       "      <td>3.028732</td>\n",
       "      <td>3.0</td>\n",
       "    </tr>\n",
       "    <tr>\n",
       "      <th>2</th>\n",
       "      <td>597</td>\n",
       "      <td>471</td>\n",
       "      <td>2.0</td>\n",
       "      <td>4.004687</td>\n",
       "      <td>4.0</td>\n",
       "    </tr>\n",
       "    <tr>\n",
       "      <th>3</th>\n",
       "      <td>385</td>\n",
       "      <td>471</td>\n",
       "      <td>4.0</td>\n",
       "      <td>3.069793</td>\n",
       "      <td>3.0</td>\n",
       "    </tr>\n",
       "    <tr>\n",
       "      <th>4</th>\n",
       "      <td>436</td>\n",
       "      <td>471</td>\n",
       "      <td>3.0</td>\n",
       "      <td>3.457296</td>\n",
       "      <td>3.5</td>\n",
       "    </tr>\n",
       "  </tbody>\n",
       "</table>\n",
       "</div>"
      ],
      "text/plain": [
       "   userId  movieId  rating  prediction  rounded_predictions\n",
       "0     191      148     5.0    4.924200                  5.0\n",
       "1     133      471     4.0    3.028732                  3.0\n",
       "2     597      471     2.0    4.004687                  4.0\n",
       "3     385      471     4.0    3.069793                  3.0\n",
       "4     436      471     3.0    3.457296                  3.5"
      ]
     },
     "execution_count": 77,
     "metadata": {},
     "output_type": "execute_result"
    }
   ],
   "source": [
    "#round predictions to 0.5\n",
    "alldata_prediction = alldata_prediction.withColumn('rounded_predictions', F.round(F.col('prediction')*2)/2)\n",
    "alldata_prediction_temp = alldata_prediction.toPandas()\n",
    "alldata_prediction_temp.head()"
   ]
  },
  {
   "cell_type": "code",
   "execution_count": 78,
   "metadata": {},
   "outputs": [],
   "source": [
    "alldata_prediction.registerTempTable(\"alldata_prediction\")"
   ]
  },
  {
   "cell_type": "code",
   "execution_count": 79,
   "metadata": {},
   "outputs": [
    {
     "name": "stdout",
     "output_type": "stream",
     "text": [
      "+------+-------+------+----------+-------------------+\n",
      "|userId|movieId|rating|prediction|rounded_predictions|\n",
      "+------+-------+------+----------+-------------------+\n",
      "|   191|    148|   5.0| 4.9241996|                5.0|\n",
      "|   133|    471|   4.0| 3.0287318|                3.0|\n",
      "|   597|    471|   2.0|  4.004687|                4.0|\n",
      "|   385|    471|   4.0| 3.0697927|                3.0|\n",
      "|   436|    471|   3.0|  3.457296|                3.5|\n",
      "|   602|    471|   4.0| 3.4959733|                3.5|\n",
      "|    91|    471|   1.0| 2.6207905|                2.5|\n",
      "|   409|    471|   3.0| 3.2339196|                3.0|\n",
      "|   372|    471|   3.0| 3.5251846|                3.5|\n",
      "|   599|    471|   2.5| 2.6651316|                2.5|\n",
      "|   603|    471|   4.0| 3.4729586|                3.5|\n",
      "|   182|    471|   4.5|  3.355753|                3.5|\n",
      "|   218|    471|   4.0| 3.1126418|                3.0|\n",
      "|   474|    471|   3.0| 3.6338792|                3.5|\n",
      "|   500|    471|   1.0| 2.0731447|                2.0|\n",
      "|    57|    471|   3.0| 3.1965382|                3.0|\n",
      "|   462|    471|   2.5|  2.804879|                3.0|\n",
      "|   387|    471|   3.0| 2.8206892|                3.0|\n",
      "|   610|    471|   4.0|  3.548472|                3.5|\n",
      "|   217|    471|   2.0| 3.0619042|                3.0|\n",
      "+------+-------+------+----------+-------------------+\n",
      "only showing top 20 rows\n",
      "\n"
     ]
    }
   ],
   "source": [
    "spark.sql('SELECT * FROM alldata_prediction').show()"
   ]
  },
  {
   "cell_type": "code",
   "execution_count": 80,
   "metadata": {},
   "outputs": [
    {
     "name": "stdout",
     "output_type": "stream",
     "text": [
      "+-------+--------------------+------+------+-------+------+----------+-------------------+\n",
      "|movieId|               title|genres|userId|movieId|rating|prediction|rounded_predictions|\n",
      "+-------+--------------------+------+------+-------+------+----------+-------------------+\n",
      "|    148|Awfully Big Adven...| Drama|   191|    148|   5.0| 4.9241996|                5.0|\n",
      "|    471|Hudsucker Proxy, ...|Comedy|   133|    471|   4.0| 3.0287318|                3.0|\n",
      "|    471|Hudsucker Proxy, ...|Comedy|   597|    471|   2.0|  4.004687|                4.0|\n",
      "|    471|Hudsucker Proxy, ...|Comedy|   385|    471|   4.0| 3.0697927|                3.0|\n",
      "|    471|Hudsucker Proxy, ...|Comedy|   436|    471|   3.0|  3.457296|                3.5|\n",
      "|    471|Hudsucker Proxy, ...|Comedy|   602|    471|   4.0| 3.4959733|                3.5|\n",
      "|    471|Hudsucker Proxy, ...|Comedy|    91|    471|   1.0| 2.6207905|                2.5|\n",
      "|    471|Hudsucker Proxy, ...|Comedy|   409|    471|   3.0| 3.2339196|                3.0|\n",
      "|    471|Hudsucker Proxy, ...|Comedy|   372|    471|   3.0| 3.5251846|                3.5|\n",
      "|    471|Hudsucker Proxy, ...|Comedy|   599|    471|   2.5| 2.6651316|                2.5|\n",
      "|    471|Hudsucker Proxy, ...|Comedy|   603|    471|   4.0| 3.4729586|                3.5|\n",
      "|    471|Hudsucker Proxy, ...|Comedy|   182|    471|   4.5|  3.355753|                3.5|\n",
      "|    471|Hudsucker Proxy, ...|Comedy|   218|    471|   4.0| 3.1126418|                3.0|\n",
      "|    471|Hudsucker Proxy, ...|Comedy|   474|    471|   3.0| 3.6338792|                3.5|\n",
      "|    471|Hudsucker Proxy, ...|Comedy|   500|    471|   1.0| 2.0731447|                2.0|\n",
      "|    471|Hudsucker Proxy, ...|Comedy|    57|    471|   3.0| 3.1965382|                3.0|\n",
      "|    471|Hudsucker Proxy, ...|Comedy|   462|    471|   2.5|  2.804879|                3.0|\n",
      "|    471|Hudsucker Proxy, ...|Comedy|   387|    471|   3.0| 2.8206892|                3.0|\n",
      "|    471|Hudsucker Proxy, ...|Comedy|   610|    471|   4.0|  3.548472|                3.5|\n",
      "|    471|Hudsucker Proxy, ...|Comedy|   217|    471|   2.0| 3.0619042|                3.0|\n",
      "+-------+--------------------+------+------+-------+------+----------+-------------------+\n",
      "only showing top 20 rows\n",
      "\n"
     ]
    }
   ],
   "source": [
    "spark.sql('SELECT * FROM movies \\\n",
    "          JOIN alldata_prediction on movies.movieId=alldata_prediction.movieId').show()"
   ]
  },
  {
   "cell_type": "markdown",
   "metadata": {},
   "source": [
    "## Part 5: Application"
   ]
  },
  {
   "cell_type": "markdown",
   "metadata": {},
   "source": [
    "### Recommend moive to users with id: 575, 232. \n",
    "you can choose some users to recommend the moives "
   ]
  },
  {
   "cell_type": "code",
   "execution_count": 62,
   "metadata": {},
   "outputs": [
    {
     "name": "stdout",
     "output_type": "stream",
     "text": [
      "+------+-------+--------------------+--------------------+-------+-----+\n",
      "|userId|movieId|               title|              genres|movieId|count|\n",
      "+------+-------+--------------------+--------------------+-------+-----+\n",
      "|   575|  89759|Separation, A (Jo...|               Drama|  89759|    3|\n",
      "|   575|   6650|Kind Hearts and C...|        Comedy|Drama|   6650|    3|\n",
      "|   575|   1284|Big Sleep, The (1...|Crime|Film-Noir|M...|   1284|   14|\n",
      "|   575|   3925|Stranger Than Par...|        Comedy|Drama|   3925|    6|\n",
      "|   575|    417|    Barcelona (1994)|      Comedy|Romance|    417|   13|\n",
      "|   575|  69524|Raiders of the Lo...|Action|Adventure|...|  69524|    3|\n",
      "|   575|  26326|Holy Mountain, Th...|               Drama|  26326|    2|\n",
      "|   575|     40|Cry, the Beloved ...|               Drama|     40|    2|\n",
      "|   575|  88448|Paper Birds (Pája...|        Comedy|Drama|  88448|    1|\n",
      "|   575|   6442| Belle époque (1992)|      Comedy|Romance|   6442|    2|\n",
      "|   575|    665|  Underground (1995)|    Comedy|Drama|War|    665|    3|\n",
      "|   575|  84847|         Emma (2009)|Comedy|Drama|Romance|  84847|    2|\n",
      "|   575|  65642|Timecrimes (Crono...|     Sci-Fi|Thriller|  65642|    4|\n",
      "|   575|   5137|      Scratch (2001)|         Documentary|   5137|    3|\n",
      "|   575|   6086|  I, the Jury (1982)|Crime|Drama|Thriller|   6086|    1|\n",
      "|   575|  73023|  Crazy Heart (2009)|       Drama|Romance|  73023|    5|\n",
      "|   575|   2905|Sanjuro (Tsubaki ...|Action|Adventure|...|   2905|    4|\n",
      "|   575|   4794|        Opera (1987)|Crime|Horror|Mystery|   4794|    3|\n",
      "|   575|  80906|   Inside Job (2010)|         Documentary|  80906|   12|\n",
      "|   575|   3653|Endless Summer, T...|         Documentary|   3653|    3|\n",
      "+------+-------+--------------------+--------------------+-------+-----+\n",
      "\n"
     ]
    }
   ],
   "source": [
    "user_list=set(['575'])\n",
    "\n",
    "# returns top num items recommended for each user, for all users.\n",
    "recommend_for_user575 =best_model.recommendForAllUsers(20)\n",
    "\n",
    "recommend_movieID = recommend_for_user575.where(recommend_for_user575.userId.isin(user_list))\\\n",
    ".select('userId', F.explode('recommendations'))\\\n",
    ".select('userId', F.col('col').movieId.alias('movieId'), F.col('col').rating.alias('rating'))\n",
    "\n",
    "recommend_movieID = recommend_movieID.join(movies_df, recommend_movieID.movieId==movies_df.movieId, 'left')\\\n",
    ".select('userId', movies_df.movieId, 'title','genres')\n",
    "\n",
    "recommend_movieID = recommend_movieID.join(movies_result, recommend_movieID.movieId==movies_result.movieId, 'left')\n",
    "\n",
    "recommend_movieID.show()"
   ]
  },
  {
   "cell_type": "code",
   "execution_count": 63,
   "metadata": {},
   "outputs": [
    {
     "name": "stdout",
     "output_type": "stream",
     "text": [
      "+------+-------+--------------------+--------------------+-------+-----+\n",
      "|userId|movieId|               title|              genres|movieId|count|\n",
      "+------+-------+--------------------+--------------------+-------+-----+\n",
      "|   232|   5607|Son of the Bride ...|        Comedy|Drama|   5607|    1|\n",
      "|   232| 134796|  Bitter Lake (2015)|         Documentary| 134796|    1|\n",
      "|   232| 117531|    Watermark (2014)|         Documentary| 117531|    1|\n",
      "|   232| 179135|Blue Planet II (2...|         Documentary| 179135|    1|\n",
      "|   232|  84273|Zeitgeist: Moving...|         Documentary|  84273|    1|\n",
      "|   232| 138966|Nasu: Summer in A...|           Animation| 138966|    1|\n",
      "|   232|  26073|Human Condition I...|           Drama|War|  26073|    1|\n",
      "|   232|  93008|Very Potter Seque...|      Comedy|Musical|  93008|    1|\n",
      "|   232|  25906|Mr. Skeffington (...|       Drama|Romance|  25906|    1|\n",
      "|   232|   3451|Guess Who's Comin...|               Drama|   3451|   11|\n",
      "|   232|   3925|Stranger Than Par...|        Comedy|Drama|   3925|    6|\n",
      "|   232|  78836|Enter the Void (2...|               Drama|  78836|    2|\n",
      "|   232| 171495|              Cosmos|  (no genres listed)| 171495|    2|\n",
      "|   232|   3022| General, The (1926)|          Comedy|War|   3022|    9|\n",
      "|   232|   4708|   Marat/Sade (1966)|       Drama|Musical|   4708|    2|\n",
      "|   232|   6086|  I, the Jury (1982)|Crime|Drama|Thriller|   6086|    1|\n",
      "|   232|  26171|Play Time (a.k.a....|              Comedy|  26171|    3|\n",
      "|   232|  60943| Frozen River (2008)|               Drama|  60943|    1|\n",
      "|   232|  59018| Visitor, The (2007)|       Drama|Romance|  59018|    1|\n",
      "|   232|  33649|  Saving Face (2004)|Comedy|Drama|Romance|  33649|    1|\n",
      "+------+-------+--------------------+--------------------+-------+-----+\n",
      "\n"
     ]
    }
   ],
   "source": [
    "user_list=set(['232'])\n",
    "\n",
    "# returns top num items recommended for each user, for all users.\n",
    "recommend_for_user232 =best_model.recommendForAllUsers(20)\n",
    "\n",
    "recommend_movieID = recommend_for_user232.where(recommend_for_user232.userId.isin(user_list))\\\n",
    ".select('userId', F.explode('recommendations'))\\\n",
    ".select('userId', F.col('col').movieId.alias('movieId'), F.col('col').rating.alias('rating'))\n",
    "\n",
    "recommend_movieID = recommend_movieID.join(movies_df, recommend_movieID.movieId==movies_df.movieId, 'left')\\\n",
    ".select('userId', movies_df.movieId, 'title','genres')\n",
    "\n",
    "recommend_movieID = recommend_movieID.join(movies_result, recommend_movieID.movieId==movies_result.movieId, 'left')\n",
    "\n",
    "recommend_movieID.show()"
   ]
  },
  {
   "cell_type": "markdown",
   "metadata": {},
   "source": [
    "### Find the similar moives for moive with id: 463, 471\n",
    "You can find the similar moives based on the ALS results"
   ]
  },
  {
   "cell_type": "markdown",
   "metadata": {},
   "source": [
    "word embeding：转化成两个向量"
   ]
  },
  {
   "cell_type": "markdown",
   "metadata": {},
   "source": [
    "### movie ID: 471"
   ]
  },
  {
   "cell_type": "code",
   "execution_count": 64,
   "metadata": {},
   "outputs": [
    {
     "name": "stdout",
     "output_type": "stream",
     "text": [
      "Movie with id 471 was rated? True\n"
     ]
    }
   ],
   "source": [
    "all_movie_id = ratings_df.select('movieId').distinct()\n",
    "is_rated = all_movie_id.where('movieId=471').count()>=1\n",
    "\n",
    "print('Movie with id 471 was rated? {}'.format(is_rated))"
   ]
  },
  {
   "cell_type": "code",
   "execution_count": 65,
   "metadata": {},
   "outputs": [
    {
     "data": {
      "text/html": [
       "<div>\n",
       "<style scoped>\n",
       "    .dataframe tbody tr th:only-of-type {\n",
       "        vertical-align: middle;\n",
       "    }\n",
       "\n",
       "    .dataframe tbody tr th {\n",
       "        vertical-align: top;\n",
       "    }\n",
       "\n",
       "    .dataframe thead th {\n",
       "        text-align: right;\n",
       "    }\n",
       "</style>\n",
       "<table border=\"1\" class=\"dataframe\">\n",
       "  <thead>\n",
       "    <tr style=\"text-align: right;\">\n",
       "      <th></th>\n",
       "      <th>id</th>\n",
       "      <th>features</th>\n",
       "    </tr>\n",
       "  </thead>\n",
       "  <tbody>\n",
       "    <tr>\n",
       "      <th>0</th>\n",
       "      <td>10</td>\n",
       "      <td>[0.917360782623291, -0.8065869212150574, 0.185...</td>\n",
       "    </tr>\n",
       "    <tr>\n",
       "      <th>1</th>\n",
       "      <td>20</td>\n",
       "      <td>[0.4749511182308197, -0.5005270838737488, -0.1...</td>\n",
       "    </tr>\n",
       "    <tr>\n",
       "      <th>2</th>\n",
       "      <td>30</td>\n",
       "      <td>[-0.3387099802494049, 0.5249912738800049, 0.43...</td>\n",
       "    </tr>\n",
       "    <tr>\n",
       "      <th>3</th>\n",
       "      <td>40</td>\n",
       "      <td>[0.3421698212623596, -0.8855372071266174, 0.12...</td>\n",
       "    </tr>\n",
       "    <tr>\n",
       "      <th>4</th>\n",
       "      <td>50</td>\n",
       "      <td>[0.6848330497741699, -0.4628043472766876, 0.43...</td>\n",
       "    </tr>\n",
       "  </tbody>\n",
       "</table>\n",
       "</div>"
      ],
      "text/plain": [
       "   id                                                                                                   features\n",
       "0  10     [0.917360782623291, -0.8065869212150574, 0.18560662865638733, -1.3387205600738525, -0.834381639957428]\n",
       "1  20   [0.4749511182308197, -0.5005270838737488, -0.1704542636871338, -1.1840660572052002, -0.7156805992126465]\n",
       "2  30  [-0.3387099802494049, 0.5249912738800049, 0.4359595477581024, -0.042761724442243576, -2.3343377113342285]\n",
       "3  40    [0.3421698212623596, -0.8855372071266174, 0.12608949840068817, -1.7064619064331055, -1.720143437385559]\n",
       "4  50    [0.6848330497741699, -0.4628043472766876, 0.43725326657295227, -1.5370230674743652, -1.626726508140564]"
      ]
     },
     "execution_count": 65,
     "metadata": {},
     "output_type": "execute_result"
    }
   ],
   "source": [
    "item_factors = best_model.itemFactors\n",
    "movie_factors = item_factors.to_koalas()\n",
    "movie_factors.head()"
   ]
  },
  {
   "cell_type": "code",
   "execution_count": 66,
   "metadata": {},
   "outputs": [
    {
     "data": {
      "text/html": [
       "<div>\n",
       "<style scoped>\n",
       "    .dataframe tbody tr th:only-of-type {\n",
       "        vertical-align: middle;\n",
       "    }\n",
       "\n",
       "    .dataframe tbody tr th {\n",
       "        vertical-align: top;\n",
       "    }\n",
       "\n",
       "    .dataframe thead th {\n",
       "        text-align: right;\n",
       "    }\n",
       "</style>\n",
       "<table border=\"1\" class=\"dataframe\">\n",
       "  <thead>\n",
       "    <tr style=\"text-align: right;\">\n",
       "      <th></th>\n",
       "      <th>id1</th>\n",
       "      <th>f1</th>\n",
       "      <th>id2</th>\n",
       "      <th>f2</th>\n",
       "    </tr>\n",
       "  </thead>\n",
       "  <tbody>\n",
       "    <tr>\n",
       "      <th>0</th>\n",
       "      <td>471</td>\n",
       "      <td>[1.5207722187042236, -0.443275511264801, 0.152...</td>\n",
       "      <td>10</td>\n",
       "      <td>[0.917360782623291, -0.8065869212150574, 0.185...</td>\n",
       "    </tr>\n",
       "    <tr>\n",
       "      <th>1</th>\n",
       "      <td>471</td>\n",
       "      <td>[1.5207722187042236, -0.443275511264801, 0.152...</td>\n",
       "      <td>20</td>\n",
       "      <td>[0.4749511182308197, -0.5005270838737488, -0.1...</td>\n",
       "    </tr>\n",
       "    <tr>\n",
       "      <th>2</th>\n",
       "      <td>471</td>\n",
       "      <td>[1.5207722187042236, -0.443275511264801, 0.152...</td>\n",
       "      <td>30</td>\n",
       "      <td>[-0.3387099802494049, 0.5249912738800049, 0.43...</td>\n",
       "    </tr>\n",
       "    <tr>\n",
       "      <th>3</th>\n",
       "      <td>471</td>\n",
       "      <td>[1.5207722187042236, -0.443275511264801, 0.152...</td>\n",
       "      <td>40</td>\n",
       "      <td>[0.3421698212623596, -0.8855372071266174, 0.12...</td>\n",
       "    </tr>\n",
       "    <tr>\n",
       "      <th>4</th>\n",
       "      <td>471</td>\n",
       "      <td>[1.5207722187042236, -0.443275511264801, 0.152...</td>\n",
       "      <td>50</td>\n",
       "      <td>[0.6848330497741699, -0.4628043472766876, 0.43...</td>\n",
       "    </tr>\n",
       "  </tbody>\n",
       "</table>\n",
       "</div>"
      ],
      "text/plain": [
       "   id1                                                 f1  id2  \\\n",
       "0  471  [1.5207722187042236, -0.443275511264801, 0.152...   10   \n",
       "1  471  [1.5207722187042236, -0.443275511264801, 0.152...   20   \n",
       "2  471  [1.5207722187042236, -0.443275511264801, 0.152...   30   \n",
       "3  471  [1.5207722187042236, -0.443275511264801, 0.152...   40   \n",
       "4  471  [1.5207722187042236, -0.443275511264801, 0.152...   50   \n",
       "\n",
       "                                                  f2  \n",
       "0  [0.917360782623291, -0.8065869212150574, 0.185...  \n",
       "1  [0.4749511182308197, -0.5005270838737488, -0.1...  \n",
       "2  [-0.3387099802494049, 0.5249912738800049, 0.43...  \n",
       "3  [0.3421698212623596, -0.8855372071266174, 0.12...  \n",
       "4  [0.6848330497741699, -0.4628043472766876, 0.43...  "
      ]
     },
     "execution_count": 66,
     "metadata": {},
     "output_type": "execute_result"
    }
   ],
   "source": [
    "# item factors cross join table with feature movieID\n",
    "item_factors_table = item_factors.select('id', 'features').where('id = 471'). \\\n",
    "                     withColumnRenamed('id', 'id1').withColumnRenamed('features', 'f1'). \\\n",
    "                     crossJoin(item_factors.select('id', 'features').where('id != 471').  \\\n",
    "                              withColumnRenamed('id', 'id2').withColumnRenamed('features', 'f2'))\n",
    "item_factors_table.toPandas().head()"
   ]
  },
  {
   "cell_type": "code",
   "execution_count": 67,
   "metadata": {},
   "outputs": [],
   "source": [
    "# define cosine similarity\n",
    "def cos_similarity(target_id_feature, feature):\n",
    "    return float(np.dot(target_id_feature,feature) / (np.linalg.norm(target_id_feature) * np.linalg.norm(feature)))\n",
    "\n",
    "# creates a user defined function (UDF)\n",
    "cosine_similarity = udf(cos_similarity, FloatType())"
   ]
  },
  {
   "cell_type": "code",
   "execution_count": 75,
   "metadata": {},
   "outputs": [
    {
     "name": "stdout",
     "output_type": "stream",
     "text": [
      "+--------------------+--------------------+\n",
      "|               title|              genres|\n",
      "+--------------------+--------------------+\n",
      "| Just My Luck (2006)|      Comedy|Romance|\n",
      "|Sisterhood of the...|Adventure|Comedy|...|\n",
      "|My Life in Ruins ...|              Comedy|\n",
      "|      Beastly (2011)|Drama|Fantasy|Rom...|\n",
      "|The Last Five Yea...|Comedy|Drama|Musi...|\n",
      "|Last Song, The (2...|       Drama|Romance|\n",
      "|Back-up Plan, The...|      Comedy|Romance|\n",
      "|    Abduction (2011)|Action|Drama|Myst...|\n",
      "|   Bride Wars (2009)|      Comedy|Romance|\n",
      "|Lucky One, The (2...|               Drama|\n",
      "|          LOL (2012)|Comedy|Drama|Romance|\n",
      "|Material Girls (2...|Children|Comedy|D...|\n",
      "|Ghosts of Girlfri...|Comedy|Fantasy|Ro...|\n",
      "|   Safe Haven (2013)|Drama|Mystery|Rom...|\n",
      "|  Love, Rosie (2014)|      Comedy|Romance|\n",
      "|Angus, Thongs and...|      Comedy|Romance|\n",
      "|Couples Retreat (...|      Comedy|Romance|\n",
      "|    You Again (2010)|              Comedy|\n",
      "|Did You Hear Abou...|Comedy|Crime|Dram...|\n",
      "|What to Expect Wh...|Comedy|Drama|Romance|\n",
      "+--------------------+--------------------+\n",
      "\n"
     ]
    }
   ],
   "source": [
    "similar_moives = item_factors_table.withColumn('similarity', \n",
    "                                               cosine_similarity(F.col('f1'), F.col('f2'))). \\\n",
    "                                    where('similarity>=0.997'). \\\n",
    "                                    orderBy('similarity', ascending=False)\n",
    "similar_moives = similar_moives.join(movies_df, \n",
    "                                     movies_df.movieId==similar_moives.id2,'left'). \\\n",
    "                                select('title','genres')\n",
    "similar_moives.show()"
   ]
  },
  {
   "cell_type": "markdown",
   "metadata": {},
   "source": [
    "### movie ID: 463"
   ]
  },
  {
   "cell_type": "code",
   "execution_count": 81,
   "metadata": {},
   "outputs": [
    {
     "name": "stdout",
     "output_type": "stream",
     "text": [
      "Movie with id 463 was rated? False\n"
     ]
    }
   ],
   "source": [
    "all_movie_id = ratings_df.select('movieId').distinct()\n",
    "is_rated = all_movie_id.where('movieId=463').count()>=1\n",
    "\n",
    "print('Movie with id 463 was rated? {}'.format(is_rated))"
   ]
  },
  {
   "cell_type": "code",
   "execution_count": 83,
   "metadata": {},
   "outputs": [
    {
     "name": "stdout",
     "output_type": "stream",
     "text": [
      "+------+------------------+----------------------+\n",
      "|userId|              MEBU|number_of_movies_rated|\n",
      "+------+------------------+----------------------+\n",
      "|   259|1.0862068965517242|                    29|\n",
      "|   461|0.9814814814814815|                    27|\n",
      "|    55|              0.98|                    25|\n",
      "|   149|0.9310344827586207|                    58|\n",
      "|   399|0.9305555555555556|                    36|\n",
      "|   542| 0.915929203539823|                   113|\n",
      "|    22|0.9117647058823529|                   119|\n",
      "|    34|0.8953488372093024|                    86|\n",
      "|   536|            0.8875|                    40|\n",
      "|    77|0.8793103448275862|                    29|\n",
      "|   328|0.8705882352941177|                   255|\n",
      "|   329|0.8695652173913043|                    23|\n",
      "|   308|0.8695652173913043|                   115|\n",
      "|   115|0.8660714285714286|                   112|\n",
      "|    81|0.8653846153846154|                    26|\n",
      "|    31|              0.85|                    50|\n",
      "|   393|0.8414634146341463|                   123|\n",
      "|   311|0.8333333333333334|                    27|\n",
      "|   126|0.8289473684210527|                    38|\n",
      "|   198|0.8165938864628821|                   229|\n",
      "+------+------------------+----------------------+\n",
      "only showing top 20 rows\n",
      "\n"
     ]
    }
   ],
   "source": [
    "# Special groups\n",
    "average_by_user = alldata_prediction.groupBy('userId'). \\\n",
    "                  agg(F.mean(F.abs(alldata_prediction.rating-alldata_prediction.rounded_predictions)). \\\n",
    "                             alias('MEBU'), \n",
    "                      F.count('rating').alias('number_of_movies_rated')). \\\n",
    "                  orderBy('MEBU', ascending=False)\n",
    "\n",
    "average_by_user.where('MEBU>0.8').show()"
   ]
  },
  {
   "cell_type": "markdown",
   "metadata": {},
   "source": [
    "## 2.Write the report \n",
    "During my daily life, I'm not quite satisfied with many recommended music and movies provided by some apps and websites, even those from Big Names like Youtube and Netflix. As a data scientist candidate, I would like to improve those recommendation systems in the future if I have a chance. Before that, I need to have a general and basic idea about how the most common and popular recommendation systems work. So I tried my best to build a simple recommendation system on a small dataset. \n",
    "<br>\n",
    "1. Conduct exploratory data analysis like split genres into categories, count the number of movies under each category, etc.\n",
    "2. Build a recommendation model based on historical movie ratings and solve it by matrix factorization and alternating least squares (ALS). \n",
    "3. Tune the model parameters through grid search and crossvalidation with the metric root mean square errors (rmse). The optimal model has rmse = 0.64 on the training dataset and rmse = 0.889 on the test dataset.\n",
    "4. Recommend 10 movies to some certain users and find top 10 similar movies in terms of some specific movies.\n",
    "\n",
    "The best model I got has 5 latent factors (hidden features). These features describe a movie in 5 dimensions. Based on the feature, I can define the similarity between movies.<br>\n",
    "In this model, I droped all unseen items and/or items during training process. The evaluation metric was computed over the non-NaN data and so, was valid.\n",
    "<br>\n",
    "I tried twice to run it on the large dataset for the whole night. Maybe due to the community version, everytime when training the model more than 2 hours, my Spark broke down.\n",
    "In the future, I will run this model on a much larger dataset."
   ]
  },
  {
   "cell_type": "markdown",
   "metadata": {},
   "source": [
    "## 3.Write the report \n",
    "\n",
    "**1. Motivation:**\n",
    "\n",
    "Recommendation systems are widely used today by big companies such as Amazon, Youtube, and Netflix for their Internet products. A good recommendation system significantly increases their business values. In this work, ALS is used to build a recommendation system based on data from [grouplens](https://grouplens.org/datasets/movielens/latest/) (Small: 100,000 ratings and 3,600 tag applications applied to 9,000 movies by 600 users. Last updated 9/2018.) \n",
    "\n",
    "**Data characteristics: **\n",
    "\n",
    "A major data characteristic of training a recommendation system is high sparsity. Just consider how many purchased items you have ever rated. One thing to point out is that most products only have a small number of reviews, and a small number of products are heavily rated. Also, most ratings are written by the same small amount of users.\n",
    "\n",
    "Another important data feature is that the number of movies is around 10 times larger than that of the users.\n",
    "\n",
    "![image](https://github.com/RuiyunHuang/Movies_Recommendation_System/blob/master/images/user_dis.png)\n",
    "![image](https://github.com/RuiyunHuang/Movies_Recommendation_System/blob/master/images/movie_dis.png)\n",
    "\n",
    "**Why ALS?: **\n",
    "\n",
    "Alternating Least Square (ALS) Matrix Factorization is an intermediary along the pathway of developing recommendation systems and is widely used by many companies. The key characteristic of this approach is a combination of good scalability and predictive accuracy. A detailed description can be found on [Standford CME323](http://stanford.edu/~rezab/classes/cme323/S15/notes/lec14.pdf) and [NETFLIX-recommender systems](https://datajobs.com/data-science-repo/Recommender-Systems-[Netflix].pdf)\n",
    "\n",
    "**2. Implementation:**\n",
    "\n",
    "**Step.1 Data Exploration and Observations**\n",
    "\n",
    "The source data is relatively clean. Three data tables are complete with the only table (links.csv) having null values. This table is also not related to the major work here currently. We will focus on the ratings.csv table since it contains the most important information for data training, and then the movies.csv as it provides more perspectives on the movie's content for users.\n",
    "\n",
    "As expected, extreme cases for both users and movies are observed as mentioned above. The 'long-tail' characteristic is clearly present as the spasticity of the “user vs. item” matrix is as high as 0.983. \n",
    "\n",
    "**Step.2 Training and model selection**\n",
    "\n",
    "The parameters that need tuning are rank (how many latent features for each user and movie), regParam (regulation parameter), and maxIter (max iteration). Grid search and cross-validation are used. Final parameters are determined and then used for training the whole set of data.\n",
    "\n",
    "**Step.3 Analysis**\n",
    "\n",
    "To compare the actual data and the predicted data, the first step is to round the predicted score to 0.5. (Follow with table) Then as all ratings are plotted against the userId and movie Id, I found the graph too messy. (Follow with graph) Here, we are looking at the mean square error for 4 special cases (users rated most and least movies, and movies with most and least users) for a better understanding of the result. \n",
    "\n",
    "![image](https://github.com/RuiyunHuang/Movies_Recommendation_System/blob/master/images/rounded_ratings.png)\n",
    "\n",
    "| MSE | User  | Movie |\n",
    "| -- | -- | -- |\n",
    "| Most | 0.578 | 0.571 |\n",
    "| Least  | 0.748 | 0.021 |\n",
    "\n",
    "In terms of users, the prediction for who are more active users is better than that for who are less active, which is intuitively right. However, in terms of movies, it is surprising to find out that the prediction for movies’s ratings with the most number of ratings is far worse than that for movies with only one rating. This is also not due to the effect of averaging, which is  shown by the figures below. \n",
    "\n",
    "![image](https://github.com/RuiyunHuang/Movies_Recommendation_System/blob/master/images/most_by_movies.png)\n",
    "![image](https://github.com/RuiyunHuang/Movies_Recommendation_System/blob/master/images/least_by_movies.png)\n",
    "\n",
    "Though counterintuitive, this is easy to understand. Let's consider what the matrix factorization actually does. It is trying to guess the 'most likely' k-dimension features for each movie (m) and user (n) based on an n by m matrix with labeled ratings. \n",
    "\n",
    "![image](https://github.com/RuiyunHuang/Movies_Recommendation_System/blob/master/images/Matrix-Factorization.png)\n",
    "\n",
    "First, let's consider a special case where we have one 4-star rating from one user for one movie. There are infinite combinations of results that can ensure 0 error, even when k=1. \n",
    "\n",
    "Then for a 2x2 table:\n",
    "\n",
    "| rating (1-5) | movie 1 | movie 2 |\n",
    "| -- | -- | -- |\n",
    "| user 1 | 3 | 4 |\n",
    "| user 2 | 1 | 5 |\n",
    "\n",
    "If we set k=1, normally we can have solutions without error. That means we certainly know the taste of each user and the feature of each movie. If we lose one rating, to guess the rating by using matrix factorization for this missing value is very risky or actually invalid, because again there are infinite combinations of results. Increasing k would also lead to similar conclusion.\n",
    "\n",
    "Based on the analysis above, we can quickly imagine a 1xn or an nx1 table will display the same result. So ideally, we need a reasonable 'activity' of movies and users which will ensure a higher correlation among users and movies. \n",
    "\n",
    "Further, it means that the categories of hidden k 'features' of one movie is not necessarily totally equal to those of other movies. It means we can not think of each row of the movie matrix as a certain feature, but hopefully, as the data and the correlation get large enough, the effect of those concerns would lessen.\n",
    "\n",
    "As already reflected by the observations above, when averaged by the number of ratings, the absolute error is lower. At the same time, the error converges as the number of ratings gets to around 25. We can see that although the less-rated movies may be fitted better, it's more unstable. Therefore, ideally, I would recommend 50 to be the minimal number of ratings for movie to get fair results. \n",
    "\n",
    "![image](https://github.com/RuiyunHuang/Movies_Recommendation_System/blob/master/images/error_by_movie.png)\n",
    "![image](https://github.com/RuiyunHuang/Movies_Recommendation_System/blob/master/images/error_by_movie_1.png)\n",
    "\n",
    "**Step.4 Applications**\n",
    "\n",
    "We can provide recommendations for users based on this model and find similar users or movies according to the cosine correlation of their latent features.\n",
    "\n",
    "Beyond that, we should also pay special to attention to the users who are not represented well by the model (Also true for movies). \n",
    "\n",
    "**3. Conclusion**\n",
    "\n",
    "Using ALS-based Matrix Factorization, I built a movie recommendation systems. The data displayed high sparsity and unbalanced ratio between the number users and movies. The latter could be a major reason for the unusual results above. \n",
    "\n",
    "Considering the application, I would recommend setting 50 as the threshold for the number of ratings for an optimal prediction for movies. It infers that we should actively encourage people to rate those movies which do not have this many reviews so far. Also, for those less-represented users and movies by the model, companies may want to take action to acquire more data or at least build a separate model for them."
   ]
  }
 ],
 "metadata": {
  "kernelspec": {
   "display_name": "Python 3",
   "language": "python",
   "name": "python3"
  },
  "language_info": {
   "codemirror_mode": {
    "name": "ipython",
    "version": 3
   },
   "file_extension": ".py",
   "mimetype": "text/x-python",
   "name": "python",
   "nbconvert_exporter": "python",
   "pygments_lexer": "ipython3",
   "version": "3.8.5"
  }
 },
 "nbformat": 4,
 "nbformat_minor": 4
}
